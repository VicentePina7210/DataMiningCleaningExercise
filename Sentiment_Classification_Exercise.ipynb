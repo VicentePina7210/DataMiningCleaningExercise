{
  "nbformat": 4,
  "nbformat_minor": 0,
  "metadata": {
    "colab": {
      "provenance": [],
      "include_colab_link": true
    },
    "kernelspec": {
      "name": "python3",
      "display_name": "Python 3"
    },
    "language_info": {
      "name": "python"
    }
  },
  "cells": [
    {
      "cell_type": "markdown",
      "metadata": {
        "id": "view-in-github",
        "colab_type": "text"
      },
      "source": [
        "<a href=\"https://colab.research.google.com/github/VicentePina7210/DataMiningCleaningExercise/blob/main/Sentiment_Classification_Exercise.ipynb\" target=\"_parent\"><img src=\"https://colab.research.google.com/assets/colab-badge.svg\" alt=\"Open In Colab\"/></a>"
      ]
    },
    {
      "cell_type": "code",
      "source": [
        "import pandas as pd\n",
        "import numpy as np\n",
        "from sklearn.model_selection import train_test_split\n",
        "from sklearn.feature_extraction.text import CountVectorizer"
      ],
      "metadata": {
        "id": "13-i77DJQtws"
      },
      "execution_count": 15,
      "outputs": []
    },
    {
      "cell_type": "code",
      "execution_count": 3,
      "metadata": {
        "id": "jw5F7ujoQdn7",
        "colab": {
          "base_uri": "https://localhost:8080/"
        },
        "outputId": "033deab2-2b6a-428c-988d-3f1a3aa17402"
      },
      "outputs": [
        {
          "output_type": "stream",
          "name": "stdout",
          "text": [
            "/usr/local/lib/python3.10/dist-packages/gdown/__main__.py:140: FutureWarning: Option `--id` was deprecated in version 4.3.1 and will be removed in 5.0. You don't need to pass it anymore to use a file ID.\n",
            "  warnings.warn(\n",
            "Downloading...\n",
            "From: https://drive.google.com/uc?id=1S6qMioqPJjyBLpLVz4gmRTnJHnjitnuV\n",
            "To: /content/apps.csv\n",
            "100% 134k/134k [00:00<00:00, 85.4MB/s]\n",
            "/usr/local/lib/python3.10/dist-packages/gdown/__main__.py:140: FutureWarning: Option `--id` was deprecated in version 4.3.1 and will be removed in 5.0. You don't need to pass it anymore to use a file ID.\n",
            "  warnings.warn(\n",
            "Downloading...\n",
            "From: https://drive.google.com/uc?id=1zdmewp7ayS4js4VtrJEHzAheSW-5NBZv\n",
            "To: /content/reviews.csv\n",
            "100% 7.17M/7.17M [00:00<00:00, 165MB/s]\n"
          ]
        }
      ],
      "source": [
        "# Download dataset\n",
        "!gdown --id 1S6qMioqPJjyBLpLVz4gmRTnJHnjitnuV\n",
        "!gdown --id 1zdmewp7ayS4js4VtrJEHzAheSW-5NBZv\n",
        "\n",
        "# Load dataset\n",
        "data_df = pd.read_csv(\"reviews.csv\")"
      ]
    },
    {
      "cell_type": "code",
      "source": [
        "# Basic formatting to focus problem\n",
        "data_df = data_df[data_df[\"score\"] != 3] # Drop neutral cases\n",
        "data_df[\"sentiment\"] = data_df[\"score\"] > 3 # Define sentiment based on if score was above 3\n",
        "data_df = data_df[[\"content\", \"sentiment\"]]\n",
        "data_df = data_df.sample(frac=0.5)"
      ],
      "metadata": {
        "colab": {
          "base_uri": "https://localhost:8080/"
        },
        "id": "NAJUgbTU-eCV",
        "outputId": "9261292d-c8a1-47c2-b0d5-50d1c0c7f242"
      },
      "execution_count": 7,
      "outputs": [
        {
          "output_type": "stream",
          "name": "stderr",
          "text": [
            "<ipython-input-7-4ed37c83ac79>:3: SettingWithCopyWarning: \n",
            "A value is trying to be set on a copy of a slice from a DataFrame.\n",
            "Try using .loc[row_indexer,col_indexer] = value instead\n",
            "\n",
            "See the caveats in the documentation: https://pandas.pydata.org/pandas-docs/stable/user_guide/indexing.html#returning-a-view-versus-a-copy\n",
            "  data_df[\"sentiment\"] = data_df[\"score\"] > 3 # Define sentiment based on if score was above 3\n"
          ]
        }
      ]
    },
    {
      "cell_type": "markdown",
      "source": [
        "1. Examine a few text samples. What can be done to clean this text given your observations?"
      ],
      "metadata": {
        "id": "rHy9NJR89tDx"
      }
    },
    {
      "cell_type": "code",
      "source": [
        "print(data_df.shape)\n",
        "print(data_df.columns)\n",
        "print(data_df.head())\n",
        "print(data_df.tail())"
      ],
      "metadata": {
        "id": "Vn1ybGMF9u5R",
        "colab": {
          "base_uri": "https://localhost:8080/"
        },
        "outputId": "292ad3f8-8391-4d08-99a5-228ab4570307"
      },
      "execution_count": 8,
      "outputs": [
        {
          "output_type": "stream",
          "name": "stdout",
          "text": [
            "(5352, 2)\n",
            "Index(['content', 'sentiment'], dtype='object')\n",
            "                                                 content  sentiment\n",
            "2586   Why tick tick for windows is available for 15 ...      False\n",
            "11940                               Just the app I need!       True\n",
            "351    Too much spam. Stuff that I don't care for pop...      False\n",
            "2276   Very customizable planner, easy to navigate, b...       True\n",
            "14438  Very easy to use. Does the job well. Has all t...       True\n",
            "                                                 content  sentiment\n",
            "13328  Especially like that there is a widget option ...       True\n",
            "1554   New layout and functionality is no bueno. Don'...      False\n",
            "15650                                 Great for stalking       True\n",
            "10387  It took me a while to understand how to use ce...       True\n",
            "8312   Really simple and good application. Good job guys       True\n"
          ]
        }
      ]
    },
    {
      "cell_type": "markdown",
      "source": [
        "2. Implement a simple text cleaning script"
      ],
      "metadata": {
        "id": "T4RqH-lD9vRp"
      }
    },
    {
      "cell_type": "code",
      "source": [
        "data_df['cleaned_content'] = data_df['content'].str.lower()\n",
        "data_df['cleaned_content'] = data_df['content'].str.strip()\n",
        "data_df['cleaned_content'] = data_df['content'].str.replace(r'[^a-zA-Z\\s]', '', regex=True)\n",
        "data_df['cleaned_content'] = data_df['content'].str.replace(r'[^\\w\\s]', '', regex=True)\n",
        "\n",
        "print(data_df.head())\n"
      ],
      "metadata": {
        "id": "qIeXPDv_9v2Y",
        "colab": {
          "base_uri": "https://localhost:8080/"
        },
        "outputId": "75e2cf08-c018-4fd4-8f0a-916ab192d7f2"
      },
      "execution_count": 9,
      "outputs": [
        {
          "output_type": "stream",
          "name": "stdout",
          "text": [
            "                                                 content  sentiment  \\\n",
            "2586   Why tick tick for windows is available for 15 ...      False   \n",
            "11940                               Just the app I need!       True   \n",
            "351    Too much spam. Stuff that I don't care for pop...      False   \n",
            "2276   Very customizable planner, easy to navigate, b...       True   \n",
            "14438  Very easy to use. Does the job well. Has all t...       True   \n",
            "\n",
            "                                         cleaned_content  \n",
            "2586   Why tick tick for windows is available for 15 ...  \n",
            "11940                                Just the app I need  \n",
            "351    Too much spam Stuff that I dont care for pops ...  \n",
            "2276   Very customizable planner easy to navigate but...  \n",
            "14438  Very easy to use Does the job well Has all the...  \n"
          ]
        }
      ]
    },
    {
      "cell_type": "markdown",
      "source": [
        "3. Create a train-test data split"
      ],
      "metadata": {
        "id": "Q-7_hzVY90V7"
      }
    },
    {
      "cell_type": "code",
      "source": [
        "x = data_df['cleaned_content']\n",
        "y = data_df['sentiment']\n",
        "\n",
        "X_train, X_test, y_train, y_test = train_test_split(x, y, test_size=0.2, random_state=42)\n",
        "\n"
      ],
      "metadata": {
        "id": "2Ns7TKiI91Oi"
      },
      "execution_count": 10,
      "outputs": []
    },
    {
      "cell_type": "markdown",
      "source": [
        "4. Create a term document matrix and implement a filter to reduce the number of terms"
      ],
      "metadata": {
        "id": "o-WQGY4E986O"
      }
    },
    {
      "cell_type": "code",
      "source": [
        "documents = data_df['cleaned_content'].tolist()\n",
        "\n",
        "vocabulary = set()\n",
        "\n",
        "for word in documents:\n",
        "  vocabulary.update(word)\n",
        "\n",
        "vocabulary = sorted(vocabulary)\n",
        "\n",
        "# Initialize the term-document matrix as a 2D NumPy array (rows: terms, columns: documents)\n",
        "tdm_matrix = np.zeros((len(vocabulary), len(documents)))\n",
        "\n",
        "# Create a mapping from each word to its row index in the matrix\n",
        "word_index = {word: i for i, word in enumerate(vocabulary)}\n",
        "\n",
        "# Populate the matrix\n",
        "for doc_index, doc in enumerate(documents):\n",
        "    for word in doc:\n",
        "        if word in word_index:  # Ensure the word is in the vocabulary\n",
        "            row_index = word_index[word]\n",
        "            tdm_matrix[row_index, doc_index] += 1\n",
        "\n",
        "# Convert the NumPy matrix to a DataFrame for easier viewing\n",
        "tdm_df = pd.DataFrame(tdm_matrix, index=vocabulary, columns=[f'Doc_{i+1}' for i in range(len(documents))])\n",
        "\n",
        "# Show the first few rows of the term-document matrix\n",
        "tdm_df.head()\n"
      ],
      "metadata": {
        "id": "dTrs7fty99R_",
        "colab": {
          "base_uri": "https://localhost:8080/",
          "height": 236
        },
        "outputId": "a69b7f61-79fb-4c20-fae7-903fbe3d4af2"
      },
      "execution_count": 16,
      "outputs": [
        {
          "output_type": "execute_result",
          "data": {
            "text/plain": [
              "    Doc_1  Doc_2  Doc_3  Doc_4  Doc_5  Doc_6  Doc_7  Doc_8  Doc_9  Doc_10  \\\n",
              "\\n    0.0    0.0    0.0    0.0    0.0    0.0    0.0    0.0    0.0     0.0   \n",
              "     48.0    4.0   41.0   22.0   19.0   26.0    9.0   92.0   37.0    38.0   \n",
              "0     0.0    0.0    0.0    0.0    0.0    0.0    0.0    1.0    0.0     0.0   \n",
              "1     2.0    0.0    0.0    0.0    0.0    0.0    0.0    1.0    2.0     0.0   \n",
              "2     0.0    0.0    0.0    0.0    0.0    0.0    0.0    0.0    0.0     0.0   \n",
              "\n",
              "    ...  Doc_5343  Doc_5344  Doc_5345  Doc_5346  Doc_5347  Doc_5348  Doc_5349  \\\n",
              "\\n  ...       0.0       0.0       0.0       0.0       0.0       0.0       0.0   \n",
              "    ...       5.0      11.0      34.0      32.0      23.0      40.0      15.0   \n",
              "0   ...       0.0       0.0       0.0       0.0       0.0       0.0       0.0   \n",
              "1   ...       0.0       0.0       0.0       0.0       1.0       0.0       0.0   \n",
              "2   ...       0.0       0.0       0.0       0.0       0.0       0.0       0.0   \n",
              "\n",
              "    Doc_5350  Doc_5351  Doc_5352  \n",
              "\\n       0.0       0.0       0.0  \n",
              "         2.0      92.0       7.0  \n",
              "0        0.0       0.0       0.0  \n",
              "1        0.0       0.0       0.0  \n",
              "2        0.0       0.0       0.0  \n",
              "\n",
              "[5 rows x 5352 columns]"
            ],
            "text/html": [
              "\n",
              "  <div id=\"df-88edf14b-af90-4af1-87b0-6a72633b5fcd\" class=\"colab-df-container\">\n",
              "    <div>\n",
              "<style scoped>\n",
              "    .dataframe tbody tr th:only-of-type {\n",
              "        vertical-align: middle;\n",
              "    }\n",
              "\n",
              "    .dataframe tbody tr th {\n",
              "        vertical-align: top;\n",
              "    }\n",
              "\n",
              "    .dataframe thead th {\n",
              "        text-align: right;\n",
              "    }\n",
              "</style>\n",
              "<table border=\"1\" class=\"dataframe\">\n",
              "  <thead>\n",
              "    <tr style=\"text-align: right;\">\n",
              "      <th></th>\n",
              "      <th>Doc_1</th>\n",
              "      <th>Doc_2</th>\n",
              "      <th>Doc_3</th>\n",
              "      <th>Doc_4</th>\n",
              "      <th>Doc_5</th>\n",
              "      <th>Doc_6</th>\n",
              "      <th>Doc_7</th>\n",
              "      <th>Doc_8</th>\n",
              "      <th>Doc_9</th>\n",
              "      <th>Doc_10</th>\n",
              "      <th>...</th>\n",
              "      <th>Doc_5343</th>\n",
              "      <th>Doc_5344</th>\n",
              "      <th>Doc_5345</th>\n",
              "      <th>Doc_5346</th>\n",
              "      <th>Doc_5347</th>\n",
              "      <th>Doc_5348</th>\n",
              "      <th>Doc_5349</th>\n",
              "      <th>Doc_5350</th>\n",
              "      <th>Doc_5351</th>\n",
              "      <th>Doc_5352</th>\n",
              "    </tr>\n",
              "  </thead>\n",
              "  <tbody>\n",
              "    <tr>\n",
              "      <th>\\n</th>\n",
              "      <td>0.0</td>\n",
              "      <td>0.0</td>\n",
              "      <td>0.0</td>\n",
              "      <td>0.0</td>\n",
              "      <td>0.0</td>\n",
              "      <td>0.0</td>\n",
              "      <td>0.0</td>\n",
              "      <td>0.0</td>\n",
              "      <td>0.0</td>\n",
              "      <td>0.0</td>\n",
              "      <td>...</td>\n",
              "      <td>0.0</td>\n",
              "      <td>0.0</td>\n",
              "      <td>0.0</td>\n",
              "      <td>0.0</td>\n",
              "      <td>0.0</td>\n",
              "      <td>0.0</td>\n",
              "      <td>0.0</td>\n",
              "      <td>0.0</td>\n",
              "      <td>0.0</td>\n",
              "      <td>0.0</td>\n",
              "    </tr>\n",
              "    <tr>\n",
              "      <th></th>\n",
              "      <td>48.0</td>\n",
              "      <td>4.0</td>\n",
              "      <td>41.0</td>\n",
              "      <td>22.0</td>\n",
              "      <td>19.0</td>\n",
              "      <td>26.0</td>\n",
              "      <td>9.0</td>\n",
              "      <td>92.0</td>\n",
              "      <td>37.0</td>\n",
              "      <td>38.0</td>\n",
              "      <td>...</td>\n",
              "      <td>5.0</td>\n",
              "      <td>11.0</td>\n",
              "      <td>34.0</td>\n",
              "      <td>32.0</td>\n",
              "      <td>23.0</td>\n",
              "      <td>40.0</td>\n",
              "      <td>15.0</td>\n",
              "      <td>2.0</td>\n",
              "      <td>92.0</td>\n",
              "      <td>7.0</td>\n",
              "    </tr>\n",
              "    <tr>\n",
              "      <th>0</th>\n",
              "      <td>0.0</td>\n",
              "      <td>0.0</td>\n",
              "      <td>0.0</td>\n",
              "      <td>0.0</td>\n",
              "      <td>0.0</td>\n",
              "      <td>0.0</td>\n",
              "      <td>0.0</td>\n",
              "      <td>1.0</td>\n",
              "      <td>0.0</td>\n",
              "      <td>0.0</td>\n",
              "      <td>...</td>\n",
              "      <td>0.0</td>\n",
              "      <td>0.0</td>\n",
              "      <td>0.0</td>\n",
              "      <td>0.0</td>\n",
              "      <td>0.0</td>\n",
              "      <td>0.0</td>\n",
              "      <td>0.0</td>\n",
              "      <td>0.0</td>\n",
              "      <td>0.0</td>\n",
              "      <td>0.0</td>\n",
              "    </tr>\n",
              "    <tr>\n",
              "      <th>1</th>\n",
              "      <td>2.0</td>\n",
              "      <td>0.0</td>\n",
              "      <td>0.0</td>\n",
              "      <td>0.0</td>\n",
              "      <td>0.0</td>\n",
              "      <td>0.0</td>\n",
              "      <td>0.0</td>\n",
              "      <td>1.0</td>\n",
              "      <td>2.0</td>\n",
              "      <td>0.0</td>\n",
              "      <td>...</td>\n",
              "      <td>0.0</td>\n",
              "      <td>0.0</td>\n",
              "      <td>0.0</td>\n",
              "      <td>0.0</td>\n",
              "      <td>1.0</td>\n",
              "      <td>0.0</td>\n",
              "      <td>0.0</td>\n",
              "      <td>0.0</td>\n",
              "      <td>0.0</td>\n",
              "      <td>0.0</td>\n",
              "    </tr>\n",
              "    <tr>\n",
              "      <th>2</th>\n",
              "      <td>0.0</td>\n",
              "      <td>0.0</td>\n",
              "      <td>0.0</td>\n",
              "      <td>0.0</td>\n",
              "      <td>0.0</td>\n",
              "      <td>0.0</td>\n",
              "      <td>0.0</td>\n",
              "      <td>0.0</td>\n",
              "      <td>0.0</td>\n",
              "      <td>0.0</td>\n",
              "      <td>...</td>\n",
              "      <td>0.0</td>\n",
              "      <td>0.0</td>\n",
              "      <td>0.0</td>\n",
              "      <td>0.0</td>\n",
              "      <td>0.0</td>\n",
              "      <td>0.0</td>\n",
              "      <td>0.0</td>\n",
              "      <td>0.0</td>\n",
              "      <td>0.0</td>\n",
              "      <td>0.0</td>\n",
              "    </tr>\n",
              "  </tbody>\n",
              "</table>\n",
              "<p>5 rows × 5352 columns</p>\n",
              "</div>\n",
              "    <div class=\"colab-df-buttons\">\n",
              "\n",
              "  <div class=\"colab-df-container\">\n",
              "    <button class=\"colab-df-convert\" onclick=\"convertToInteractive('df-88edf14b-af90-4af1-87b0-6a72633b5fcd')\"\n",
              "            title=\"Convert this dataframe to an interactive table.\"\n",
              "            style=\"display:none;\">\n",
              "\n",
              "  <svg xmlns=\"http://www.w3.org/2000/svg\" height=\"24px\" viewBox=\"0 -960 960 960\">\n",
              "    <path d=\"M120-120v-720h720v720H120Zm60-500h600v-160H180v160Zm220 220h160v-160H400v160Zm0 220h160v-160H400v160ZM180-400h160v-160H180v160Zm440 0h160v-160H620v160ZM180-180h160v-160H180v160Zm440 0h160v-160H620v160Z\"/>\n",
              "  </svg>\n",
              "    </button>\n",
              "\n",
              "  <style>\n",
              "    .colab-df-container {\n",
              "      display:flex;\n",
              "      gap: 12px;\n",
              "    }\n",
              "\n",
              "    .colab-df-convert {\n",
              "      background-color: #E8F0FE;\n",
              "      border: none;\n",
              "      border-radius: 50%;\n",
              "      cursor: pointer;\n",
              "      display: none;\n",
              "      fill: #1967D2;\n",
              "      height: 32px;\n",
              "      padding: 0 0 0 0;\n",
              "      width: 32px;\n",
              "    }\n",
              "\n",
              "    .colab-df-convert:hover {\n",
              "      background-color: #E2EBFA;\n",
              "      box-shadow: 0px 1px 2px rgba(60, 64, 67, 0.3), 0px 1px 3px 1px rgba(60, 64, 67, 0.15);\n",
              "      fill: #174EA6;\n",
              "    }\n",
              "\n",
              "    .colab-df-buttons div {\n",
              "      margin-bottom: 4px;\n",
              "    }\n",
              "\n",
              "    [theme=dark] .colab-df-convert {\n",
              "      background-color: #3B4455;\n",
              "      fill: #D2E3FC;\n",
              "    }\n",
              "\n",
              "    [theme=dark] .colab-df-convert:hover {\n",
              "      background-color: #434B5C;\n",
              "      box-shadow: 0px 1px 3px 1px rgba(0, 0, 0, 0.15);\n",
              "      filter: drop-shadow(0px 1px 2px rgba(0, 0, 0, 0.3));\n",
              "      fill: #FFFFFF;\n",
              "    }\n",
              "  </style>\n",
              "\n",
              "    <script>\n",
              "      const buttonEl =\n",
              "        document.querySelector('#df-88edf14b-af90-4af1-87b0-6a72633b5fcd button.colab-df-convert');\n",
              "      buttonEl.style.display =\n",
              "        google.colab.kernel.accessAllowed ? 'block' : 'none';\n",
              "\n",
              "      async function convertToInteractive(key) {\n",
              "        const element = document.querySelector('#df-88edf14b-af90-4af1-87b0-6a72633b5fcd');\n",
              "        const dataTable =\n",
              "          await google.colab.kernel.invokeFunction('convertToInteractive',\n",
              "                                                    [key], {});\n",
              "        if (!dataTable) return;\n",
              "\n",
              "        const docLinkHtml = 'Like what you see? Visit the ' +\n",
              "          '<a target=\"_blank\" href=https://colab.research.google.com/notebooks/data_table.ipynb>data table notebook</a>'\n",
              "          + ' to learn more about interactive tables.';\n",
              "        element.innerHTML = '';\n",
              "        dataTable['output_type'] = 'display_data';\n",
              "        await google.colab.output.renderOutput(dataTable, element);\n",
              "        const docLink = document.createElement('div');\n",
              "        docLink.innerHTML = docLinkHtml;\n",
              "        element.appendChild(docLink);\n",
              "      }\n",
              "    </script>\n",
              "  </div>\n",
              "\n",
              "\n",
              "<div id=\"df-78db7dfa-3c82-4644-853b-7fab61eab784\">\n",
              "  <button class=\"colab-df-quickchart\" onclick=\"quickchart('df-78db7dfa-3c82-4644-853b-7fab61eab784')\"\n",
              "            title=\"Suggest charts\"\n",
              "            style=\"display:none;\">\n",
              "\n",
              "<svg xmlns=\"http://www.w3.org/2000/svg\" height=\"24px\"viewBox=\"0 0 24 24\"\n",
              "     width=\"24px\">\n",
              "    <g>\n",
              "        <path d=\"M19 3H5c-1.1 0-2 .9-2 2v14c0 1.1.9 2 2 2h14c1.1 0 2-.9 2-2V5c0-1.1-.9-2-2-2zM9 17H7v-7h2v7zm4 0h-2V7h2v10zm4 0h-2v-4h2v4z\"/>\n",
              "    </g>\n",
              "</svg>\n",
              "  </button>\n",
              "\n",
              "<style>\n",
              "  .colab-df-quickchart {\n",
              "      --bg-color: #E8F0FE;\n",
              "      --fill-color: #1967D2;\n",
              "      --hover-bg-color: #E2EBFA;\n",
              "      --hover-fill-color: #174EA6;\n",
              "      --disabled-fill-color: #AAA;\n",
              "      --disabled-bg-color: #DDD;\n",
              "  }\n",
              "\n",
              "  [theme=dark] .colab-df-quickchart {\n",
              "      --bg-color: #3B4455;\n",
              "      --fill-color: #D2E3FC;\n",
              "      --hover-bg-color: #434B5C;\n",
              "      --hover-fill-color: #FFFFFF;\n",
              "      --disabled-bg-color: #3B4455;\n",
              "      --disabled-fill-color: #666;\n",
              "  }\n",
              "\n",
              "  .colab-df-quickchart {\n",
              "    background-color: var(--bg-color);\n",
              "    border: none;\n",
              "    border-radius: 50%;\n",
              "    cursor: pointer;\n",
              "    display: none;\n",
              "    fill: var(--fill-color);\n",
              "    height: 32px;\n",
              "    padding: 0;\n",
              "    width: 32px;\n",
              "  }\n",
              "\n",
              "  .colab-df-quickchart:hover {\n",
              "    background-color: var(--hover-bg-color);\n",
              "    box-shadow: 0 1px 2px rgba(60, 64, 67, 0.3), 0 1px 3px 1px rgba(60, 64, 67, 0.15);\n",
              "    fill: var(--button-hover-fill-color);\n",
              "  }\n",
              "\n",
              "  .colab-df-quickchart-complete:disabled,\n",
              "  .colab-df-quickchart-complete:disabled:hover {\n",
              "    background-color: var(--disabled-bg-color);\n",
              "    fill: var(--disabled-fill-color);\n",
              "    box-shadow: none;\n",
              "  }\n",
              "\n",
              "  .colab-df-spinner {\n",
              "    border: 2px solid var(--fill-color);\n",
              "    border-color: transparent;\n",
              "    border-bottom-color: var(--fill-color);\n",
              "    animation:\n",
              "      spin 1s steps(1) infinite;\n",
              "  }\n",
              "\n",
              "  @keyframes spin {\n",
              "    0% {\n",
              "      border-color: transparent;\n",
              "      border-bottom-color: var(--fill-color);\n",
              "      border-left-color: var(--fill-color);\n",
              "    }\n",
              "    20% {\n",
              "      border-color: transparent;\n",
              "      border-left-color: var(--fill-color);\n",
              "      border-top-color: var(--fill-color);\n",
              "    }\n",
              "    30% {\n",
              "      border-color: transparent;\n",
              "      border-left-color: var(--fill-color);\n",
              "      border-top-color: var(--fill-color);\n",
              "      border-right-color: var(--fill-color);\n",
              "    }\n",
              "    40% {\n",
              "      border-color: transparent;\n",
              "      border-right-color: var(--fill-color);\n",
              "      border-top-color: var(--fill-color);\n",
              "    }\n",
              "    60% {\n",
              "      border-color: transparent;\n",
              "      border-right-color: var(--fill-color);\n",
              "    }\n",
              "    80% {\n",
              "      border-color: transparent;\n",
              "      border-right-color: var(--fill-color);\n",
              "      border-bottom-color: var(--fill-color);\n",
              "    }\n",
              "    90% {\n",
              "      border-color: transparent;\n",
              "      border-bottom-color: var(--fill-color);\n",
              "    }\n",
              "  }\n",
              "</style>\n",
              "\n",
              "  <script>\n",
              "    async function quickchart(key) {\n",
              "      const quickchartButtonEl =\n",
              "        document.querySelector('#' + key + ' button');\n",
              "      quickchartButtonEl.disabled = true;  // To prevent multiple clicks.\n",
              "      quickchartButtonEl.classList.add('colab-df-spinner');\n",
              "      try {\n",
              "        const charts = await google.colab.kernel.invokeFunction(\n",
              "            'suggestCharts', [key], {});\n",
              "      } catch (error) {\n",
              "        console.error('Error during call to suggestCharts:', error);\n",
              "      }\n",
              "      quickchartButtonEl.classList.remove('colab-df-spinner');\n",
              "      quickchartButtonEl.classList.add('colab-df-quickchart-complete');\n",
              "    }\n",
              "    (() => {\n",
              "      let quickchartButtonEl =\n",
              "        document.querySelector('#df-78db7dfa-3c82-4644-853b-7fab61eab784 button');\n",
              "      quickchartButtonEl.style.display =\n",
              "        google.colab.kernel.accessAllowed ? 'block' : 'none';\n",
              "    })();\n",
              "  </script>\n",
              "</div>\n",
              "\n",
              "    </div>\n",
              "  </div>\n"
            ],
            "application/vnd.google.colaboratory.intrinsic+json": {
              "type": "dataframe",
              "variable_name": "tdm_df"
            }
          },
          "metadata": {},
          "execution_count": 16
        }
      ]
    },
    {
      "cell_type": "markdown",
      "source": [
        "5. Train a classifier and get the train + test accuracy"
      ],
      "metadata": {
        "id": "GvqRn4p5-IOz"
      }
    },
    {
      "cell_type": "code",
      "source": [],
      "metadata": {
        "id": "1j8deRCD-Mx5"
      },
      "execution_count": null,
      "outputs": []
    },
    {
      "cell_type": "markdown",
      "source": [
        "6. What are some other more attributes you can create for better classification?"
      ],
      "metadata": {
        "id": "e0fpwbCW-NCf"
      }
    }
  ]
}