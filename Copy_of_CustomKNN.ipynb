{
  "nbformat": 4,
  "nbformat_minor": 0,
  "metadata": {
    "colab": {
      "provenance": [],
      "include_colab_link": true
    },
    "kernelspec": {
      "name": "python3",
      "display_name": "Python 3"
    },
    "language_info": {
      "name": "python"
    }
  },
  "cells": [
    {
      "cell_type": "markdown",
      "metadata": {
        "id": "view-in-github",
        "colab_type": "text"
      },
      "source": [
        "<a href=\"https://colab.research.google.com/github/VicentePina7210/DataMiningCleaningExercise/blob/main/Copy_of_CustomKNN.ipynb\" target=\"_parent\"><img src=\"https://colab.research.google.com/assets/colab-badge.svg\" alt=\"Open In Colab\"/></a>"
      ]
    },
    {
      "cell_type": "markdown",
      "source": [
        "# K Nearest Neighbour (CMSC4383 Spring 2025)"
      ],
      "metadata": {
        "id": "K74qb9xqYcUG"
      }
    },
    {
      "cell_type": "code",
      "execution_count": 2,
      "metadata": {
        "id": "CN8WSLthYWnk"
      },
      "outputs": [],
      "source": [
        "from collections import Counter\n",
        "import matplotlib.pyplot as plt\n",
        "import numpy as np\n",
        "from sklearn.model_selection import train_test_split\n",
        "from sklearn.metrics import classification_report"
      ]
    },
    {
      "cell_type": "code",
      "source": [
        "# Generate random synthetic data\n",
        "N = 100\n",
        "rand_pos_points = np.random.normal(loc=(2, 2), scale=1, size=(N, 2))\n",
        "rand_neg_points = np.random.normal(loc=(0, 0), scale=1, size=(N, 2))\n",
        "x_train = np.concatenate((rand_pos_points, rand_neg_points), axis=0)\n",
        "y_train = np.concatenate((np.ones((N, 1)), np.zeros((N, 1))), axis=0)\n",
        "\n",
        "# New point\n",
        "x_obs = np.array([[0.9, 0.8]])\n",
        "\n",
        "# plot points\n",
        "plt.scatter(rand_pos_points[:,0], rand_pos_points[:,1])\n",
        "plt.scatter(rand_neg_points[:,0], rand_neg_points[:,1])\n",
        "plt.scatter(x_obs[:,0], x_obs[:,1]) # New point\n",
        "plt.xlabel(\"Feature 1\")\n",
        "plt.ylabel(\"Feature 2\")\n",
        "plt.show()"
      ],
      "metadata": {
        "colab": {
          "base_uri": "https://localhost:8080/",
          "height": 449
        },
        "id": "lB5cA4HuYsQm",
        "outputId": "6260d352-406d-4dbc-c448-25e47c205f2b"
      },
      "execution_count": 3,
      "outputs": [
        {
          "output_type": "display_data",
          "data": {
            "text/plain": [
              "<Figure size 640x480 with 1 Axes>"
            ],
            "image/png": "[encoded data removed]"
          },
          "metadata": {}
        }
      ]
    },
    {
      "cell_type": "code",
      "source": [
        "# Create train-test split\n",
        "x_train, x_test, y_train, y_test = train_test_split(x_train, y_train, test_size=0.2, random_state=42)\n",
        "x_train.shape, x_test.shape, y_train.shape, y_test.shape"
      ],
      "metadata": {
        "colab": {
          "base_uri": "https://localhost:8080/"
        },
        "id": "WEjbMkwRqxm5",
        "outputId": "20e19481-b2e5-438b-c75d-e3b37167b14e"
      },
      "execution_count": 4,
      "outputs": [
        {
          "output_type": "execute_result",
          "data": {
            "text/plain": [
              "((160, 2), (40, 2), (160, 1), (40, 1))"
            ]
          },
          "metadata": {},
          "execution_count": 4
        }
      ]
    },
    {
      "cell_type": "code",
      "source": [
        "class CustomKNN():\n",
        "    def __init__(self, k):\n",
        "        self.k = k\n",
        "\n",
        "    def fit(self, x_train, y_train):\n",
        "        # This is all there is to training\n",
        "        self.x_train = x_train\n",
        "        self.y_train = y_train\n",
        "\n",
        "    def euclidean_dist(self, array, x):\n",
        "        return np.sqrt(np.sum((array - x) ** 2, axis=1))\n",
        "\n",
        "    def predict_one(self, x):\n",
        "        # 1. Loop through all training values, measure distance for each\n",
        "        distances = self.euclidean_dist(self.x_train, x)\n",
        "\n",
        "        # 2. Sort the distance values and return the indices of the k closest points\n",
        "        indices_of_nearest = np.argsort(distances)[:self.k]\n",
        "\n",
        "        # 3. Get the labels of the nearest neighbors\n",
        "        labels_of_nearest = self.y_train[indices_of_nearest].flatten()\n",
        "        nearest_distances = distances[indices_of_nearest]\n",
        "\n",
        "        # Compute the weights of nearest with inverse distance\n",
        "        epsilon = 1e-8\n",
        "        weights = 1/ (nearest_distances + epsilon)\n",
        "\n",
        "        # Aggregate weighted votes\n",
        "        weighted_votes = {}\n",
        "        for label, weight in zip(labels_of_nearest, weights):\n",
        "          if label in weighted_votes:\n",
        "            weighted_votes[label] += weight\n",
        "          else:\n",
        "            weighted_votes[label] = weight\n",
        "\n",
        "\n",
        "        # 4. Aggregate all predictions\n",
        "        final_pred = max(weighted_votes, key = weighted_votes.get)\n",
        "        return final_pred\n",
        "\n",
        "    def predict(self, x_list):\n",
        "        preds = []\n",
        "        for x in x_list:\n",
        "            preds.append(self.predict_one(x))\n",
        "        return preds\n",
        "\n",
        "knn = CustomKNN(k=4)\n",
        "knn.fit(x_train, y_train)\n",
        "\n",
        "# Get performance stats on training data\n",
        "pred_y_train = knn.predict(x_train)\n",
        "print(classification_report(y_train, pred_y_train))\n",
        "\n",
        "# Get performance stats on test data\n",
        "pred_y_test = knn.predict(x_test)\n",
        "print(classification_report(y_test, pred_y_test))"
      ],
      "metadata": {
        "colab": {
          "base_uri": "https://localhost:8080/"
        },
        "id": "B4-FvXkzrW-A",
        "outputId": "7bc3a32d-dc6a-426a-f0d1-ee9fff922c4b"
      },
      "execution_count": 8,
      "outputs": [
        {
          "output_type": "stream",
          "name": "stdout",
          "text": [
            "              precision    recall  f1-score   support\n",
            "\n",
            "         0.0       1.00      1.00      1.00        81\n",
            "         1.0       1.00      1.00      1.00        79\n",
            "\n",
            "    accuracy                           1.00       160\n",
            "   macro avg       1.00      1.00      1.00       160\n",
            "weighted avg       1.00      1.00      1.00       160\n",
            "\n",
            "              precision    recall  f1-score   support\n",
            "\n",
            "         0.0       0.94      0.89      0.92        19\n",
            "         1.0       0.91      0.95      0.93        21\n",
            "\n",
            "    accuracy                           0.93        40\n",
            "   macro avg       0.93      0.92      0.92        40\n",
            "weighted avg       0.93      0.93      0.92        40\n",
            "\n"
          ]
        }
      ]
    },
    {
      "cell_type": "markdown",
      "source": [
        "## Implement distance weights\n",
        "Implement distance weights to the custom KNN class and run it for the dummy data.\n",
        "\n",
        "1. How do the outputs of the new KNN compare to the original with no distance weights?\n",
        "The new KNN results at k=1 were identical which had me confused at first but it makes sense because the weighted distance is irrelevant at k = 1.\n",
        "At k = 4 we see a bigger difference, the new model has 100% training accuracy and precision. On the testing set we see a 93%/93% accuracy.\n",
        "\n",
        "Compared to the original model, the new weighted distance model provides a better generalization when it comes to prediciting on the test set.\n",
        "\n",
        "2. If you don't observe any meaningful difference, what kinds of data do you think would benefit from distance weights\n",
        "\n",
        "Though the difference is not dramatic, it still improved significantly. Datasets that would benefit more from this would be datasets that have more noise, and maybe more labels."
      ],
      "metadata": {
        "id": "lYDY8PnodskG"
      }
    },
    {
      "cell_type": "markdown",
      "source": [
        "## KNN for Regression - Ignore"
      ],
      "metadata": {
        "id": "9TqFArh5cs3k"
      }
    },
    {
      "cell_type": "code",
      "source": [
        "# How do we adapt for a regression problem?\n",
        "\n",
        "# Create synthetic data (parabola)\n",
        "x_train = np.arange(0, 10, 0.1)\n",
        "y_train = (x_train - 3) ** 2 + 10 * np.random.rand(100)\n",
        "\n",
        "plt.scatter(x_train, y_train)\n",
        "plt.show()"
      ],
      "metadata": {
        "colab": {
          "base_uri": "https://localhost:8080/",
          "height": 430
        },
        "id": "kEsQXOXkZjXI",
        "outputId": "81c4f04e-8c55-4ec1-c2dd-c2b01d87c6c3"
      },
      "execution_count": null,
      "outputs": [
        {
          "output_type": "display_data",
          "data": {
            "text/plain": [
              "<Figure size 640x480 with 1 Axes>"
            ],
            "image/png": "[encoded data removed]"
          },
          "metadata": {}
        }
      ]
    }
  ]
}