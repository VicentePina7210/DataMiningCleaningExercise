{
  "nbformat": 4,
  "nbformat_minor": 0,
  "metadata": {
    "colab": {
      "provenance": [],
      "include_colab_link": true
    },
    "kernelspec": {
      "name": "python3",
      "display_name": "Python 3"
    },
    "language_info": {
      "name": "python"
    }
  },
  "cells": [
    {
      "cell_type": "markdown",
      "metadata": {
        "id": "view-in-github",
        "colab_type": "text"
      },
      "source": [
        "<a href=\"https://colab.research.google.com/github/VicentePina7210/DataMiningCleaningExercise/blob/main/Image_Classification_Exercise.ipynb\" target=\"_parent\"><img src=\"https://colab.research.google.com/assets/colab-badge.svg\" alt=\"Open In Colab\"/></a>"
      ]
    },
    {
      "cell_type": "markdown",
      "source": [
        "# Image Classification Exercise\n",
        "\n",
        "Implement two algorithms to classify images of handwritten digits 1-10"
      ],
      "metadata": {
        "id": "8I141zUw7DCE"
      }
    },
    {
      "cell_type": "code",
      "source": [
        "from sklearn.datasets import fetch_openml\n",
        "from sklearn.model_selection import train_test_split\n",
        "from sklearn.metrics import classification_report, confusion_matrix\n",
        "import numpy as np\n",
        "import matplotlib.pyplot as plt\n",
        "from sklearn.neighbors import KNeighborsClassifier\n",
        "from sklearn.linear_model import LogisticRegression\n",
        "\n",
        "\n",
        "# Load mnist dataset\n",
        "mnist = fetch_openml('mnist_784', as_frame=False, cache=False)"
      ],
      "metadata": {
        "id": "M1xx6IYh7CyA"
      },
      "execution_count": 12,
      "outputs": []
    },
    {
      "cell_type": "code",
      "execution_count": 13,
      "metadata": {
        "colab": {
          "base_uri": "https://localhost:8080/",
          "height": 447
        },
        "id": "iMTIVNUq6xXd",
        "outputId": "0e84541e-9499-4f3c-c690-2a63a307ebcc"
      },
      "outputs": [
        {
          "output_type": "stream",
          "name": "stdout",
          "text": [
            "(784,)\n"
          ]
        },
        {
          "output_type": "display_data",
          "data": {
            "text/plain": [
              "<Figure size 640x480 with 1 Axes>"
            ],
            "image/png": "[encoded data removed]"
          },
          "metadata": {}
        }
      ],
      "source": [
        "# Example image\n",
        "print(mnist.data[0].shape)\n",
        "plt.imshow(mnist.data[0].reshape(28, 28), cmap='gray')\n",
        "plt.show()"
      ]
    },
    {
      "cell_type": "code",
      "source": [
        "\n",
        "x = mnist.data.astype('float32')[:1000]\n",
        "y = mnist.target.astype('int64')[:1000]\n",
        "x_train, x_test, y_train, y_test = train_test_split(\n",
        "    x, y, test_size=0.25, random_state=42\n",
        ")"
      ],
      "metadata": {
        "id": "0_AHhbJe79e0"
      },
      "execution_count": 14,
      "outputs": []
    },
    {
      "cell_type": "code",
      "source": [
        "# Custom implementation for\n",
        "\n",
        "def image_dist(x1, x2):\n",
        "    img1 = x1.reshape(28, 28)\n",
        "    img2 = x2.reshape(28, 28)\n",
        "\n",
        "    # Divide each image into four 14x14 quadrants\n",
        "    quadrants1 = [\n",
        "        img1[:14, :14],  # Top-left\n",
        "        img1[:14, 14:],  # Top-right\n",
        "        img1[14:, :14],  # Bottom-left\n",
        "        img1[14:, 14:]   # Bottom-right\n",
        "    ]\n",
        "\n",
        "    quadrants2 = [\n",
        "        img2[:14, :14],  # Top-left\n",
        "        img2[:14, 14:],  # Top-right\n",
        "        img2[14:, :14],  # Bottom-left\n",
        "        img2[14:, 14:]   # Bottom-right\n",
        "    ]\n",
        "\n",
        "    # Initialize total distance\n",
        "    total_distance = 0\n",
        "\n",
        "    # Compute Manhattan distance for each quadrant\n",
        "    for q1, q2 in zip(quadrants1, quadrants2):\n",
        "        total_distance += np.sum(np.abs(q1 - q2))\n",
        "\n",
        "    return total_distance"
      ],
      "metadata": {
        "id": "VgREPo8Jieud"
      },
      "execution_count": 33,
      "outputs": []
    },
    {
      "cell_type": "code",
      "source": [
        "# Implement KNN from sklearn and print performance\n",
        "# (your code here)\n",
        "for i in range(4,10):\n",
        "    knn = KNeighborsClassifier(n_neighbors = i, metric = image_dist)\n",
        "    knn.fit(x_train, y_train)\n",
        "\n",
        "    y_pred = knn.predict(x_test)\n",
        "\n",
        "    print(classification_report(y_test, y_pred))\n",
        "\n"
      ],
      "metadata": {
        "id": "IB_mq3VS8oqD",
        "outputId": "3369b12c-88b2-4dba-ba75-60088fa1fdbf",
        "colab": {
          "base_uri": "https://localhost:8080/"
        }
      },
      "execution_count": 34,
      "outputs": [
        {
          "output_type": "stream",
          "name": "stdout",
          "text": [
            "              precision    recall  f1-score   support\n",
            "\n",
            "           0       0.88      0.95      0.91        22\n",
            "           1       0.63      1.00      0.77        24\n",
            "           2       0.85      0.68      0.76        25\n",
            "           3       0.93      0.87      0.90        31\n",
            "           4       0.80      0.84      0.82        19\n",
            "           5       0.95      0.87      0.91        23\n",
            "           6       0.93      0.90      0.91        29\n",
            "           7       0.81      0.78      0.79        32\n",
            "           8       0.94      0.85      0.89        20\n",
            "           9       0.90      0.76      0.83        25\n",
            "\n",
            "    accuracy                           0.85       250\n",
            "   macro avg       0.86      0.85      0.85       250\n",
            "weighted avg       0.86      0.85      0.85       250\n",
            "\n",
            "              precision    recall  f1-score   support\n",
            "\n",
            "           0       0.84      0.95      0.89        22\n",
            "           1       0.62      1.00      0.76        24\n",
            "           2       0.89      0.64      0.74        25\n",
            "           3       0.96      0.87      0.92        31\n",
            "           4       0.90      0.95      0.92        19\n",
            "           5       0.91      0.91      0.91        23\n",
            "           6       0.96      0.86      0.91        29\n",
            "           7       0.76      0.81      0.79        32\n",
            "           8       0.94      0.85      0.89        20\n",
            "           9       1.00      0.76      0.86        25\n",
            "\n",
            "    accuracy                           0.86       250\n",
            "   macro avg       0.88      0.86      0.86       250\n",
            "weighted avg       0.88      0.86      0.86       250\n",
            "\n",
            "              precision    recall  f1-score   support\n",
            "\n",
            "           0       0.81      0.95      0.88        22\n",
            "           1       0.60      1.00      0.75        24\n",
            "           2       1.00      0.64      0.78        25\n",
            "           3       0.97      0.94      0.95        31\n",
            "           4       0.82      0.95      0.88        19\n",
            "           5       1.00      0.91      0.95        23\n",
            "           6       0.96      0.90      0.93        29\n",
            "           7       0.81      0.78      0.79        32\n",
            "           8       0.94      0.85      0.89        20\n",
            "           9       1.00      0.76      0.86        25\n",
            "\n",
            "    accuracy                           0.86       250\n",
            "   macro avg       0.89      0.87      0.87       250\n",
            "weighted avg       0.89      0.86      0.87       250\n",
            "\n",
            "              precision    recall  f1-score   support\n",
            "\n",
            "           0       0.81      0.95      0.88        22\n",
            "           1       0.59      1.00      0.74        24\n",
            "           2       0.94      0.64      0.76        25\n",
            "           3       0.90      0.87      0.89        31\n",
            "           4       0.86      1.00      0.93        19\n",
            "           5       1.00      0.87      0.93        23\n",
            "           6       0.96      0.90      0.93        29\n",
            "           7       0.81      0.78      0.79        32\n",
            "           8       1.00      0.85      0.92        20\n",
            "           9       1.00      0.76      0.86        25\n",
            "\n",
            "    accuracy                           0.86       250\n",
            "   macro avg       0.89      0.86      0.86       250\n",
            "weighted avg       0.89      0.86      0.86       250\n",
            "\n",
            "              precision    recall  f1-score   support\n",
            "\n",
            "           0       0.81      0.95      0.88        22\n",
            "           1       0.57      1.00      0.73        24\n",
            "           2       1.00      0.60      0.75        25\n",
            "           3       0.96      0.84      0.90        31\n",
            "           4       0.75      0.95      0.84        19\n",
            "           5       1.00      0.91      0.95        23\n",
            "           6       0.96      0.90      0.93        29\n",
            "           7       0.83      0.78      0.81        32\n",
            "           8       0.94      0.85      0.89        20\n",
            "           9       0.90      0.72      0.80        25\n",
            "\n",
            "    accuracy                           0.84       250\n",
            "   macro avg       0.87      0.85      0.85       250\n",
            "weighted avg       0.88      0.84      0.85       250\n",
            "\n",
            "              precision    recall  f1-score   support\n",
            "\n",
            "           0       0.81      0.95      0.88        22\n",
            "           1       0.55      1.00      0.71        24\n",
            "           2       0.93      0.56      0.70        25\n",
            "           3       0.96      0.81      0.88        31\n",
            "           4       0.78      0.95      0.86        19\n",
            "           5       1.00      0.91      0.95        23\n",
            "           6       0.96      0.90      0.93        29\n",
            "           7       0.83      0.78      0.81        32\n",
            "           8       0.94      0.85      0.89        20\n",
            "           9       0.90      0.72      0.80        25\n",
            "\n",
            "    accuracy                           0.84       250\n",
            "   macro avg       0.87      0.84      0.84       250\n",
            "weighted avg       0.87      0.84      0.84       250\n",
            "\n"
          ]
        }
      ]
    },
    {
      "cell_type": "code",
      "source": [
        "# Implement logistic regression from sklearn and print performance\n",
        "# (your code here)\n",
        "log_reg = LogisticRegression(\n",
        "    multi_class=\"multinomial\",\n",
        "    solver=\"lbfgs\",\n",
        "    max_iter=1000,\n",
        ")\n",
        "log_reg.fit(x_train, y_train)\n",
        "\n",
        "y_pred = log_reg.predict(x_test)\n",
        "\n",
        "print(classification_report(y_test, y_pred))\n",
        "\n",
        "print(confusion_matrix(y_test, y_pred))"
      ],
      "metadata": {
        "id": "dpFRG5vu8zE5",
        "outputId": "4b5c0d4f-6060-4c1f-df42-e3501e6da563",
        "colab": {
          "base_uri": "https://localhost:8080/"
        }
      },
      "execution_count": 17,
      "outputs": [
        {
          "output_type": "stream",
          "name": "stderr",
          "text": [
            "/usr/local/lib/python3.10/dist-packages/sklearn/linear_model/_logistic.py:1247: FutureWarning: 'multi_class' was deprecated in version 1.5 and will be removed in 1.7. From then on, it will always use 'multinomial'. Leave it to its default value to avoid this warning.\n",
            "  warnings.warn(\n"
          ]
        },
        {
          "output_type": "stream",
          "name": "stdout",
          "text": [
            "              precision    recall  f1-score   support\n",
            "\n",
            "           0       0.88      1.00      0.94        22\n",
            "           1       0.85      0.96      0.90        24\n",
            "           2       0.74      0.92      0.82        25\n",
            "           3       0.82      0.90      0.86        31\n",
            "           4       0.85      0.89      0.87        19\n",
            "           5       0.94      0.65      0.77        23\n",
            "           6       0.93      0.93      0.93        29\n",
            "           7       0.90      0.84      0.87        32\n",
            "           8       0.84      0.80      0.82        20\n",
            "           9       0.95      0.72      0.82        25\n",
            "\n",
            "    accuracy                           0.86       250\n",
            "   macro avg       0.87      0.86      0.86       250\n",
            "weighted avg       0.87      0.86      0.86       250\n",
            "\n",
            "[[22  0  0  0  0  0  0  0  0  0]\n",
            " [ 0 23  1  0  0  0  0  0  0  0]\n",
            " [ 1  0 23  0  0  0  1  0  0  0]\n",
            " [ 0  0  2 28  1  0  0  0  0  0]\n",
            " [ 0  0  0  0 17  0  1  0  1  0]\n",
            " [ 1  0  1  4  0 15  0  0  2  0]\n",
            " [ 1  1  0  0  0  0 27  0  0  0]\n",
            " [ 0  2  1  0  1  0  0 27  0  1]\n",
            " [ 0  1  1  0  0  1  0  1 16  0]\n",
            " [ 0  0  2  2  1  0  0  2  0 18]]\n"
          ]
        }
      ]
    },
    {
      "cell_type": "code",
      "source": [
        "# Implement neural network (multi-layer perceptron) from sklearn and print performance\n",
        "# (your code here)"
      ],
      "metadata": {
        "id": "0gErSmmW9LN7"
      },
      "execution_count": null,
      "outputs": []
    },
    {
      "cell_type": "code",
      "source": [
        "# Compare the performance of each model, which does well and why do you think each model performed as well or as poorly as it did\n",
        "# (free response)"
      ],
      "metadata": {
        "id": "7ldUYIH4ZgiW"
      },
      "execution_count": null,
      "outputs": []
    },
    {
      "cell_type": "code",
      "source": [
        "# Implement KNN with a custom distance function and print performance\n",
        "# (your code here)\n"
      ],
      "metadata": {
        "id": "6crSL4Ew89Sc"
      },
      "execution_count": null,
      "outputs": []
    },
    {
      "cell_type": "markdown",
      "source": [
        "# **Reflection**\n",
        "The data set we were given was a very easy to work with dataset that only consisted of a trinary sequence of numbers in an array. KNN did a great job with image classfication and prediction with an average result of about 90 percent or so based on each value k. The custom implementation did slightly worse, the custom function to replace the metric for kneighborsclassification less susceptible to changes and distortions in photos because it splits each image into four quadrants and then calculates the difference in distance.\n"
      ],
      "metadata": {
        "id": "XWztgvTvn_ei"
      }
    }
  ]
}